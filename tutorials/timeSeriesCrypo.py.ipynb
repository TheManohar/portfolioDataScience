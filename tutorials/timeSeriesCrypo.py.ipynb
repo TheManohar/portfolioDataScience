{
 "cells": [
  {
   "cell_type": "markdown",
   "metadata": {},
   "source": [
    "# Analysis of time series data from crytocurrencies markets\n",
    "### Using coinGecko API and Prophet\n",
    "Requirements: plotly, prophet, pandas, datetime, requests"
   ]
  },
  {
   "cell_type": "code",
   "execution_count": 1,
   "metadata": {},
   "outputs": [],
   "source": [
    "import sys\n",
    "import pandas as pd\n",
    "from datetime import datetime\n",
    "sys.path.insert(0, '../src')"
   ]
  },
  {
   "cell_type": "markdown",
   "metadata": {},
   "source": [
    "Define the number of markets and days (historical data) to request:"
   ]
  },
  {
   "cell_type": "code",
   "execution_count": 2,
   "metadata": {},
   "outputs": [],
   "source": [
    "numberOfCoins = 50\n",
    "numberOfDays = 400"
   ]
  },
  {
   "cell_type": "markdown",
   "metadata": {},
   "source": [
    "Obtain data from coinGecko API"
   ]
  },
  {
   "cell_type": "code",
   "execution_count": 3,
   "metadata": {},
   "outputs": [
    {
     "name": "stdout",
     "output_type": "stream",
     "text": [
      "\n",
      "Data obtained from: https://api.coingecko.com/api/v3/\n",
      "\n",
      "Days considered: 400\n",
      "\n",
      "Obtaining price for... \n",
      "(btc) bitcoin\n",
      "(ltc) litecoin\n",
      "(aur) auroracoin\n",
      "(ppc) peercoin\n",
      "(doge) dogecoin\n",
      "(nxt) nxt\n",
      "(omni) omni\n",
      "(nmc) namecoin\n",
      "(xcp) counterparty\n",
      "(qrk) quark\n",
      "(ftc) feathercoin\n",
      "(xpm) primecoin\n",
      "(ifc) infinitecoin\n",
      "(nvc) novacoin\n",
      "(mec) megacoin\n",
      "(wdc) worldcoin\n",
      "(vtc) vertcoin\n",
      "(dash) dash\n",
      "(ybc) ybcoin\n",
      "(mint) mintcoin\n",
      "(dvc) devcoin\n",
      "(anc) anoncoin\n",
      "(max) maxcoin\n",
      "(utc) ultracoin\n",
      "(zet) zetacoin\n",
      "(cach) cachecoin\n",
      "(ixc) ixcoin\n",
      "(frc) freicoin\n",
      "(trc) terracoin\n",
      "(clr) copperlark\n",
      "(dgc) digitalcoin\n",
      "(tips) fedoracoin\n",
      "(net) netcoin\n",
      "(uno) unobtanium\n",
      "(rdd) reddcoin\n",
      "(xrp) ripple\n",
      "(emc2) einsteinium\n",
      "(gld) goldcoin\n",
      "(blk) blackcoin\n",
      "(pot) potcoin\n",
      "(flt) fluttercoin\n",
      "(usde) usde\n",
      "(hbn) hobonickels\n",
      "(xwc) whitecoin\n",
      "(naut) nautiluscoin\n",
      "(dgb) digibyte\n",
      "(csc) casinocoin\n",
      "(zeit) zeitcoin\n",
      "(xmy) myriadcoin\n",
      "(xmr) monero\n"
     ]
    }
   ],
   "source": [
    "from getGeckoData import *\n",
    "from plotlyTimeSeries import *\n",
    "listData, priceDf = getGeckoMarket(numberOfCoins, numberOfDays)\n",
    "datetimeX = pd.to_datetime(priceDf.index.values, unit='ms')"
   ]
  },
  {
   "cell_type": "code",
   "execution_count": 5,
   "metadata": {},
   "outputs": [
    {
     "name": "stdout",
     "output_type": "stream",
     "text": [
      "Find interactive graphic in the browser.\n"
     ]
    }
   ],
   "source": [
    "plotlyTimeSeries(datetimeX, listData, '')#, jupyterNotebook = 'jupyter-Time Series Crypto')"
   ]
  },
  {
   "cell_type": "code",
   "execution_count": null,
   "metadata": {},
   "outputs": [],
   "source": [
    "\n",
    "\n"
   ]
  },
  {
   "cell_type": "code",
   "execution_count": null,
   "metadata": {},
   "outputs": [],
   "source": []
  },
  {
   "cell_type": "code",
   "execution_count": null,
   "metadata": {},
   "outputs": [],
   "source": []
  }
 ],
 "metadata": {
  "kernelspec": {
   "display_name": "Python 3",
   "language": "python",
   "name": "python3"
  },
  "language_info": {
   "codemirror_mode": {
    "name": "ipython",
    "version": 3
   },
   "file_extension": ".py",
   "mimetype": "text/x-python",
   "name": "python",
   "nbconvert_exporter": "python",
   "pygments_lexer": "ipython3",
   "version": "3.7.0"
  }
 },
 "nbformat": 4,
 "nbformat_minor": 2
}
